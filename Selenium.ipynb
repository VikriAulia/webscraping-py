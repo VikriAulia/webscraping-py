{
 "cells": [
  {
   "cell_type": "markdown",
   "id": "efdd1156-cf1d-41b2-8bed-edfe947ae53d",
   "metadata": {},
   "source": [
    "# Seleneum, Interact and saving sesion"
   ]
  },
  {
   "cell_type": "code",
   "execution_count": 1,
   "id": "e4aa1ba5-1138-4816-bb47-4dc5e5240342",
   "metadata": {},
   "outputs": [
    {
     "data": {
      "text/plain": [
       "True"
      ]
     },
     "execution_count": 1,
     "metadata": {},
     "output_type": "execute_result"
    }
   ],
   "source": [
    "from selenium import webdriver\n",
    "from selenium.webdriver.chrome.service import Service as ChromeService\n",
    "from webdriver_manager.chrome import ChromeDriverManager\n",
    "import time\n",
    "from selenium.webdriver.common.by import By\n",
    "import pickle\n",
    "import os\n",
    "from dotenv import load_dotenv # add this line\n",
    "load_dotenv() # add this line"
   ]
  },
  {
   "cell_type": "markdown",
   "id": "93cf9d7c-558b-418f-af81-270ff169eacb",
   "metadata": {},
   "source": [
    "## Init the webdriver"
   ]
  },
  {
   "cell_type": "code",
   "execution_count": 2,
   "id": "7dce12eb-6fa8-4788-b9e9-01cd04291de0",
   "metadata": {},
   "outputs": [],
   "source": [
    "driver = webdriver.Chrome(service=ChromeService(ChromeDriverManager().install()))"
   ]
  },
  {
   "cell_type": "markdown",
   "id": "1741e466-8bdb-4dd5-8fca-9552c40f0372",
   "metadata": {},
   "source": [
    "## Open a link"
   ]
  },
  {
   "cell_type": "code",
   "execution_count": 3,
   "id": "5d03b81a-59fd-4b3d-a3e0-d6ab68dca65c",
   "metadata": {},
   "outputs": [],
   "source": [
    "driver.get(\"https://www.google.com\")"
   ]
  },
  {
   "cell_type": "code",
   "execution_count": null,
   "id": "00819396-fa27-4bf0-a60b-84daa206abac",
   "metadata": {
    "scrolled": true
   },
   "outputs": [],
   "source": [
    "driver.get(\"https://sipd.kemendagri.go.id/landing\")"
   ]
  },
  {
   "cell_type": "markdown",
   "id": "465473ea-ac1f-466e-adbf-958d1ceff439",
   "metadata": {},
   "source": [
    "## Finaly Close the web driver"
   ]
  },
  {
   "cell_type": "code",
   "execution_count": 5,
   "id": "92e153ff-8233-477e-8206-c6da71626d67",
   "metadata": {},
   "outputs": [],
   "source": [
    "time.sleep(10)\n",
    "driver.close()"
   ]
  },
  {
   "cell_type": "markdown",
   "id": "9fac8d73-2155-4079-af81-383931e1c2db",
   "metadata": {},
   "source": [
    "## Full Automation Google Search"
   ]
  },
  {
   "cell_type": "code",
   "execution_count": null,
   "id": "cb9eafe9-2fcf-4bcb-b36b-e1d73e8e99dd",
   "metadata": {},
   "outputs": [],
   "source": [
    "driver = webdriver.Chrome(service=ChromeService(ChromeDriverManager().install()))\n",
    "driver.get(\"https://www.google.com\")\n",
    "search_bar = driver.find_element(By.ID, 'APjFqb')\n",
    "search_bar.send_keys(\"Vikri Aulia\")\n",
    "search_btn = driver.find_element(By.XPATH, '/html/body/div[1]/div[3]/form/div[1]/div[1]/div[4]/center/input[1]')\n",
    "search_btn.click()\n",
    "first_link = driver.find_element(By.XPATH, '//*[@id=\"rso\"]/div[1]/div/div/div[1]/div/div/span/a/h3')\n",
    "first_link.click()\n",
    "time.sleep(20)\n",
    "driver.close()"
   ]
  },
  {
   "cell_type": "markdown",
   "id": "385bbdc9-6990-44b4-8ebd-15ac781da7d1",
   "metadata": {},
   "source": [
    "## Full Automation Sauce Demo Login"
   ]
  },
  {
   "cell_type": "code",
   "execution_count": 6,
   "id": "67836447-b134-4efa-89e0-3041a5697ef0",
   "metadata": {},
   "outputs": [],
   "source": [
    "driver = webdriver.Chrome(service=ChromeService(ChromeDriverManager().install()))\n",
    "driver.get(\"https://www.saucedemo.com/\")\n",
    "username = driver.find_element(By.ID, 'user-name')\n",
    "username.send_keys(\"standard_user\")\n",
    "password = driver.find_element(By.ID, 'password')\n",
    "password.send_keys(\"secret_sauce\")\n",
    "login_btn = driver.find_element(By.XPATH, '//*[@id=\"login-button\"]')\n",
    "login_btn.click()\n",
    "time.sleep(20)\n",
    "driver.close()"
   ]
  },
  {
   "cell_type": "markdown",
   "id": "106fa587",
   "metadata": {},
   "source": [
    "## test cookie on allow cookie login site"
   ]
  },
  {
   "cell_type": "code",
   "execution_count": 5,
   "id": "fac7776e",
   "metadata": {},
   "outputs": [
    {
     "name": "stdout",
     "output_type": "stream",
     "text": [
      "Cookies Exist\n"
     ]
    }
   ],
   "source": [
    "\n",
    "#driver = webdriver.Chrome(service=ChromeService(ChromeDriverManager().install()))\n",
    "driver = webdriver.Chrome()\n",
    "driver.get(\"https://www.mangadex.org/\")\n",
    "driver.implicitly_wait(1)\n",
    "\n",
    "### check cookies available\n",
    "if os.path.exists('cookies_mangadex.pkl'):\n",
    "    print(\"Cookies Exist\")\n",
    "    cookies = pickle.load(open(\"cookies_mangadex.pkl\", \"rb\"))\n",
    "    for cookie in cookies:\n",
    "        driver.add_cookie(cookie)\n",
    "        driver.refresh()\n",
    "    time.sleep(5)\n",
    "\n",
    "else:\n",
    "\n",
    "    popup_button = driver.find_element(By.XPATH, '//*[@id=\"avatar\"]')\n",
    "    popup_button.click()\n",
    "    signin_button = driver.find_element(By.XPATH, '/html/body/div[1]/div[4]/div[2]/div/div[1]/button[4]')\n",
    "    signin_button.click()\n",
    "    time.sleep(3)\n",
    "    username = driver.find_element(By.ID, 'username')\n",
    "    username.send_keys(os.getenv('MANGADEX_USERNAME'))\n",
    "    password = driver.find_element(By.ID, 'password')\n",
    "    password.send_keys(os.getenv('MANGADEX_PASSWORD'))\n",
    "    login_btn = driver.find_element(By.ID, 'kc-login')\n",
    "    login_btn.click()\n",
    "    ### dump the cookie\n",
    "    pickle.dump(driver.get_cookies(), open(\"cookies_mangadex.pkl\", \"wb\"))\n",
    "    \n",
    "time.sleep(20)\n",
    "driver.quit()"
   ]
  },
  {
   "cell_type": "code",
   "execution_count": null,
   "id": "ced91e17",
   "metadata": {},
   "outputs": [],
   "source": []
  }
 ],
 "metadata": {
  "kernelspec": {
   "display_name": "Python 3 (ipykernel)",
   "language": "python",
   "name": "python3"
  },
  "language_info": {
   "codemirror_mode": {
    "name": "ipython",
    "version": 3
   },
   "file_extension": ".py",
   "mimetype": "text/x-python",
   "name": "python",
   "nbconvert_exporter": "python",
   "pygments_lexer": "ipython3",
   "version": "3.12.2"
  }
 },
 "nbformat": 4,
 "nbformat_minor": 5
}
