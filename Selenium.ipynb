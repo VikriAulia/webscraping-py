{
 "cells": [
  {
   "cell_type": "markdown",
   "id": "efdd1156-cf1d-41b2-8bed-edfe947ae53d",
   "metadata": {},
   "source": [
    "# Seleneum, Interact and saving sesion"
   ]
  },
  {
   "cell_type": "code",
   "execution_count": 1,
   "id": "e4aa1ba5-1138-4816-bb47-4dc5e5240342",
   "metadata": {},
   "outputs": [],
   "source": [
    "from selenium import webdriver\n",
    "from selenium.webdriver.chrome.service import Service as ChromeService\n",
    "from webdriver_manager.chrome import ChromeDriverManager\n",
    "import time\n",
    "from selenium.webdriver.common.by import By"
   ]
  },
  {
   "cell_type": "markdown",
   "id": "93cf9d7c-558b-418f-af81-270ff169eacb",
   "metadata": {},
   "source": [
    "## Init the webdriver"
   ]
  },
  {
   "cell_type": "code",
   "execution_count": 2,
   "id": "7dce12eb-6fa8-4788-b9e9-01cd04291de0",
   "metadata": {},
   "outputs": [],
   "source": [
    "driver = webdriver.Chrome(service=ChromeService(ChromeDriverManager().install()))"
   ]
  },
  {
   "cell_type": "markdown",
   "id": "1741e466-8bdb-4dd5-8fca-9552c40f0372",
   "metadata": {},
   "source": [
    "## Open a link"
   ]
  },
  {
   "cell_type": "code",
   "execution_count": 3,
   "id": "5d03b81a-59fd-4b3d-a3e0-d6ab68dca65c",
   "metadata": {},
   "outputs": [],
   "source": [
    "driver.get(\"https://www.google.com\")"
   ]
  },
  {
   "cell_type": "code",
   "execution_count": 4,
   "id": "00819396-fa27-4bf0-a60b-84daa206abac",
   "metadata": {
    "scrolled": true
   },
   "outputs": [
    {
     "ename": "WebDriverException",
     "evalue": "Message: unknown error: net::ERR_CONNECTION_RESET\n  (Session info: chrome=123.0.6312.58)\nStacktrace:\n#0 0x55b1684d5863 <unknown>\n#1 0x55b1681cb8c6 <unknown>\n#2 0x55b1681c39f3 <unknown>\n#3 0x55b1681b3b2b <unknown>\n#4 0x55b1681b50c2 <unknown>\n#5 0x55b1681b3e4c <unknown>\n#6 0x55b1681b3638 <unknown>\n#7 0x55b1681b3485 <unknown>\n#8 0x55b1681b1516 <unknown>\n#9 0x55b1681b1a2a <unknown>\n#10 0x55b1681ce24e <unknown>\n#11 0x55b1682577c5 <unknown>\n#12 0x55b1682385a2 <unknown>\n#13 0x55b168256c19 <unknown>\n#14 0x55b168238343 <unknown>\n#15 0x55b168209593 <unknown>\n#16 0x55b168209f5e <unknown>\n#17 0x55b16849984b <unknown>\n#18 0x55b16849d7a5 <unknown>\n#19 0x55b168487571 <unknown>\n#20 0x55b16849e332 <unknown>\n#21 0x55b16846c87f <unknown>\n#22 0x55b1684c4728 <unknown>\n#23 0x55b1684c48fb <unknown>\n#24 0x55b1684d49b4 <unknown>\n#25 0x7f4227a9a134 <unknown>\n",
     "output_type": "error",
     "traceback": [
      "\u001b[0;31m---------------------------------------------------------------------------\u001b[0m",
      "\u001b[0;31mWebDriverException\u001b[0m                        Traceback (most recent call last)",
      "Cell \u001b[0;32mIn[4], line 1\u001b[0m\n\u001b[0;32m----> 1\u001b[0m \u001b[43mdriver\u001b[49m\u001b[38;5;241;43m.\u001b[39;49m\u001b[43mget\u001b[49m\u001b[43m(\u001b[49m\u001b[38;5;124;43m\"\u001b[39;49m\u001b[38;5;124;43mhttps://sipd.kemendagri.go.id/landing\u001b[39;49m\u001b[38;5;124;43m\"\u001b[39;49m\u001b[43m)\u001b[49m\n",
      "File \u001b[0;32m~/anaconda3/envs/webscraping-py/lib/python3.12/site-packages/selenium/webdriver/remote/webdriver.py:356\u001b[0m, in \u001b[0;36mWebDriver.get\u001b[0;34m(self, url)\u001b[0m\n\u001b[1;32m    354\u001b[0m \u001b[38;5;28;01mdef\u001b[39;00m \u001b[38;5;21mget\u001b[39m(\u001b[38;5;28mself\u001b[39m, url: \u001b[38;5;28mstr\u001b[39m) \u001b[38;5;241m-\u001b[39m\u001b[38;5;241m>\u001b[39m \u001b[38;5;28;01mNone\u001b[39;00m:\n\u001b[1;32m    355\u001b[0m \u001b[38;5;250m    \u001b[39m\u001b[38;5;124;03m\"\"\"Loads a web page in the current browser session.\"\"\"\u001b[39;00m\n\u001b[0;32m--> 356\u001b[0m     \u001b[38;5;28;43mself\u001b[39;49m\u001b[38;5;241;43m.\u001b[39;49m\u001b[43mexecute\u001b[49m\u001b[43m(\u001b[49m\u001b[43mCommand\u001b[49m\u001b[38;5;241;43m.\u001b[39;49m\u001b[43mGET\u001b[49m\u001b[43m,\u001b[49m\u001b[43m \u001b[49m\u001b[43m{\u001b[49m\u001b[38;5;124;43m\"\u001b[39;49m\u001b[38;5;124;43murl\u001b[39;49m\u001b[38;5;124;43m\"\u001b[39;49m\u001b[43m:\u001b[49m\u001b[43m \u001b[49m\u001b[43murl\u001b[49m\u001b[43m}\u001b[49m\u001b[43m)\u001b[49m\n",
      "File \u001b[0;32m~/anaconda3/envs/webscraping-py/lib/python3.12/site-packages/selenium/webdriver/remote/webdriver.py:347\u001b[0m, in \u001b[0;36mWebDriver.execute\u001b[0;34m(self, driver_command, params)\u001b[0m\n\u001b[1;32m    345\u001b[0m response \u001b[38;5;241m=\u001b[39m \u001b[38;5;28mself\u001b[39m\u001b[38;5;241m.\u001b[39mcommand_executor\u001b[38;5;241m.\u001b[39mexecute(driver_command, params)\n\u001b[1;32m    346\u001b[0m \u001b[38;5;28;01mif\u001b[39;00m response:\n\u001b[0;32m--> 347\u001b[0m     \u001b[38;5;28;43mself\u001b[39;49m\u001b[38;5;241;43m.\u001b[39;49m\u001b[43merror_handler\u001b[49m\u001b[38;5;241;43m.\u001b[39;49m\u001b[43mcheck_response\u001b[49m\u001b[43m(\u001b[49m\u001b[43mresponse\u001b[49m\u001b[43m)\u001b[49m\n\u001b[1;32m    348\u001b[0m     response[\u001b[38;5;124m\"\u001b[39m\u001b[38;5;124mvalue\u001b[39m\u001b[38;5;124m\"\u001b[39m] \u001b[38;5;241m=\u001b[39m \u001b[38;5;28mself\u001b[39m\u001b[38;5;241m.\u001b[39m_unwrap_value(response\u001b[38;5;241m.\u001b[39mget(\u001b[38;5;124m\"\u001b[39m\u001b[38;5;124mvalue\u001b[39m\u001b[38;5;124m\"\u001b[39m, \u001b[38;5;28;01mNone\u001b[39;00m))\n\u001b[1;32m    349\u001b[0m     \u001b[38;5;28;01mreturn\u001b[39;00m response\n",
      "File \u001b[0;32m~/anaconda3/envs/webscraping-py/lib/python3.12/site-packages/selenium/webdriver/remote/errorhandler.py:229\u001b[0m, in \u001b[0;36mErrorHandler.check_response\u001b[0;34m(self, response)\u001b[0m\n\u001b[1;32m    227\u001b[0m         alert_text \u001b[38;5;241m=\u001b[39m value[\u001b[38;5;124m\"\u001b[39m\u001b[38;5;124malert\u001b[39m\u001b[38;5;124m\"\u001b[39m]\u001b[38;5;241m.\u001b[39mget(\u001b[38;5;124m\"\u001b[39m\u001b[38;5;124mtext\u001b[39m\u001b[38;5;124m\"\u001b[39m)\n\u001b[1;32m    228\u001b[0m     \u001b[38;5;28;01mraise\u001b[39;00m exception_class(message, screen, stacktrace, alert_text)  \u001b[38;5;66;03m# type: ignore[call-arg]  # mypy is not smart enough here\u001b[39;00m\n\u001b[0;32m--> 229\u001b[0m \u001b[38;5;28;01mraise\u001b[39;00m exception_class(message, screen, stacktrace)\n",
      "\u001b[0;31mWebDriverException\u001b[0m: Message: unknown error: net::ERR_CONNECTION_RESET\n  (Session info: chrome=123.0.6312.58)\nStacktrace:\n#0 0x55b1684d5863 <unknown>\n#1 0x55b1681cb8c6 <unknown>\n#2 0x55b1681c39f3 <unknown>\n#3 0x55b1681b3b2b <unknown>\n#4 0x55b1681b50c2 <unknown>\n#5 0x55b1681b3e4c <unknown>\n#6 0x55b1681b3638 <unknown>\n#7 0x55b1681b3485 <unknown>\n#8 0x55b1681b1516 <unknown>\n#9 0x55b1681b1a2a <unknown>\n#10 0x55b1681ce24e <unknown>\n#11 0x55b1682577c5 <unknown>\n#12 0x55b1682385a2 <unknown>\n#13 0x55b168256c19 <unknown>\n#14 0x55b168238343 <unknown>\n#15 0x55b168209593 <unknown>\n#16 0x55b168209f5e <unknown>\n#17 0x55b16849984b <unknown>\n#18 0x55b16849d7a5 <unknown>\n#19 0x55b168487571 <unknown>\n#20 0x55b16849e332 <unknown>\n#21 0x55b16846c87f <unknown>\n#22 0x55b1684c4728 <unknown>\n#23 0x55b1684c48fb <unknown>\n#24 0x55b1684d49b4 <unknown>\n#25 0x7f4227a9a134 <unknown>\n"
     ]
    }
   ],
   "source": [
    "driver.get(\"https://sipd.kemendagri.go.id/landing\")"
   ]
  },
  {
   "cell_type": "markdown",
   "id": "465473ea-ac1f-466e-adbf-958d1ceff439",
   "metadata": {},
   "source": [
    "## Finaly Close the web driver"
   ]
  },
  {
   "cell_type": "code",
   "execution_count": 5,
   "id": "92e153ff-8233-477e-8206-c6da71626d67",
   "metadata": {},
   "outputs": [],
   "source": [
    "time.sleep(10)\n",
    "driver.close()"
   ]
  },
  {
   "cell_type": "markdown",
   "id": "9fac8d73-2155-4079-af81-383931e1c2db",
   "metadata": {},
   "source": [
    "## Full Automation Google Search"
   ]
  },
  {
   "cell_type": "code",
   "execution_count": null,
   "id": "cb9eafe9-2fcf-4bcb-b36b-e1d73e8e99dd",
   "metadata": {},
   "outputs": [],
   "source": [
    "driver = webdriver.Chrome(service=ChromeService(ChromeDriverManager().install()))\n",
    "driver.get(\"https://www.google.com\")\n",
    "search_bar = driver.find_element(By.ID, 'APjFqb')\n",
    "search_bar.send_keys(\"Vikri Aulia\")\n",
    "search_btn = driver.find_element(By.XPATH, '/html/body/div[1]/div[3]/form/div[1]/div[1]/div[4]/center/input[1]')\n",
    "search_btn.click()\n",
    "first_link = driver.find_element(By.XPATH, '//*[@id=\"rso\"]/div[1]/div/div/div[1]/div/div/span/a/h3')\n",
    "first_link.click()\n",
    "time.sleep(20)\n",
    "driver.close()"
   ]
  },
  {
   "cell_type": "markdown",
   "id": "385bbdc9-6990-44b4-8ebd-15ac781da7d1",
   "metadata": {},
   "source": [
    "## Full Automation Sauce Demo Login"
   ]
  },
  {
   "cell_type": "code",
   "execution_count": 6,
   "id": "67836447-b134-4efa-89e0-3041a5697ef0",
   "metadata": {},
   "outputs": [],
   "source": [
    "driver = webdriver.Chrome(service=ChromeService(ChromeDriverManager().install()))\n",
    "driver.get(\"https://www.saucedemo.com/\")\n",
    "username = driver.find_element(By.ID, 'user-name')\n",
    "username.send_keys(\"standard_user\")\n",
    "password = driver.find_element(By.ID, 'password')\n",
    "password.send_keys(\"secret_sauce\")\n",
    "login_btn = driver.find_element(By.XPATH, '//*[@id=\"login-button\"]')\n",
    "login_btn.click()\n",
    "time.sleep(20)\n",
    "driver.close()"
   ]
  }
 ],
 "metadata": {
  "kernelspec": {
   "display_name": "Python 3 (ipykernel)",
   "language": "python",
   "name": "python3"
  },
  "language_info": {
   "codemirror_mode": {
    "name": "ipython",
    "version": 3
   },
   "file_extension": ".py",
   "mimetype": "text/x-python",
   "name": "python",
   "nbconvert_exporter": "python",
   "pygments_lexer": "ipython3",
   "version": "3.12.2"
  }
 },
 "nbformat": 4,
 "nbformat_minor": 5
}
